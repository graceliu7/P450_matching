{
 "cells": [
  {
   "cell_type": "code",
   "execution_count": 3,
   "source": [
    "import numpy as np\r\n",
    "import pandas as pd\r\n",
    "import sklearn\r\n",
    "\r\n",
    "from river import tree, ensemble, compat, compose\r\n",
    "from tqdm import tqdm\r\n",
    "from joblib import Parallel, delayed, parallel_backend\r\n",
    "#from bio_embeddings.embed import ESM1bEmbedder\r\n",
    "\r\n",
    "from IterP450 import IterP450\r\n",
    "import run_river_model\r\n",
    "\r\n",
    "import asyncio\r\n",
    "import sys\r\n",
    "sys.path.append('../')\r\n",
    "from ensemble_class import EnsembleModel\r\n",
    "import NCPR_functions"
   ],
   "outputs": [],
   "metadata": {}
  },
  {
   "cell_type": "code",
   "execution_count": 7,
   "source": [
    "def setup_river_model(model_name, params):\r\n",
    "    ESM_model = ESM1bEmbedder()\r\n",
    "    data = IterP450(batch_size=16)\r\n",
    "\r\n",
    "    dict_data, NCPR_df = NCPR_functions.load_NCPR()\r\n",
    "    classes = NCPR_df['species index'].unique()\r\n",
    "\r\n",
    "    if model_name =='SGD':\r\n",
    "        classifier = compat.convert_sklearn_to_river(sklearn.linear_model.SGDClassifier(**params), classes=classes)\r\n",
    "    elif model_name=='decision tree':\r\n",
    "        classifier = tree.ExtremelyFastDecisionTreeClassifier(\r\n",
    "            **params)\r\n",
    "    elif model_name=='Hoeffding tree':\r\n",
    "        classifier = tree.HoeffdingAdaptiveTreeClassifier(\r\n",
    "            **params\r\n",
    "        )\r\n",
    "    elif model_name=='random forest':\r\n",
    "        classifier = ensemble.AdaptiveRandomForestClassifier(**params)\r\n",
    "    #elif model_name =='ensemble':\r\n",
    "    #    classifier = EnsembleModel(models=[sgd_model,tree_model,forest_model,hoeffding_model], classes=classes, weights = [sgd_score, tree_score, forest_score, hoeffding_score])\r\n",
    "    else:\r\n",
    "        raise ValueError('Model not found')\r\n",
    "    \r\n",
    "    return run_river_model.run_train_model(data, ESM_model, classifier)"
   ],
   "outputs": [],
   "metadata": {}
  },
  {
   "cell_type": "code",
   "execution_count": null,
   "source": [
    "params={'alpha':1e-6, 'eta0':0.8, 'loss':'modified_huber', 'learning_rate':'adaptive', 'penalty': 'l2'}\r\n",
    "%timeit model = setup_river_model('SGD', params)"
   ],
   "outputs": [
    {
     "output_type": "stream",
     "name": "stdout",
     "text": [
      "1\n",
      "2\n"
     ]
    }
   ],
   "metadata": {}
  },
  {
   "cell_type": "code",
   "execution_count": 4,
   "source": [
    "async def a():\r\n",
    "    return 1, 2\r\n",
    "\r\n",
    "async def b():\r\n",
    "    return 3\r\n",
    "\r\n",
    "async def main():\r\n",
    "    L = await asyncio.gather(\r\n",
    "        a(),\r\n",
    "        b()\r\n",
    "    )"
   ],
   "outputs": [
    {
     "output_type": "error",
     "ename": "RuntimeError",
     "evalue": "asyncio.run() cannot be called from a running event loop",
     "traceback": [
      "\u001b[1;31m---------------------------------------------------------------------------\u001b[0m",
      "\u001b[1;31mRuntimeError\u001b[0m                              Traceback (most recent call last)",
      "\u001b[1;32m<ipython-input-4-d6013ad026f0>\u001b[0m in \u001b[0;36m<module>\u001b[1;34m\u001b[0m\n\u001b[0;32m     10\u001b[0m         \u001b[0mb\u001b[0m\u001b[1;33m(\u001b[0m\u001b[1;33m)\u001b[0m\u001b[1;33m\u001b[0m\u001b[1;33m\u001b[0m\u001b[0m\n\u001b[0;32m     11\u001b[0m     )\n\u001b[1;32m---> 12\u001b[1;33m \u001b[0masyncio\u001b[0m\u001b[1;33m.\u001b[0m\u001b[0mrun\u001b[0m\u001b[1;33m(\u001b[0m\u001b[0mmain\u001b[0m\u001b[1;33m(\u001b[0m\u001b[1;33m)\u001b[0m\u001b[1;33m)\u001b[0m\u001b[1;33m\u001b[0m\u001b[1;33m\u001b[0m\u001b[0m\n\u001b[0m",
      "\u001b[1;32m~\\anaconda3\\lib\\asyncio\\runners.py\u001b[0m in \u001b[0;36mrun\u001b[1;34m(main, debug)\u001b[0m\n\u001b[0;32m     31\u001b[0m     \"\"\"\n\u001b[0;32m     32\u001b[0m     \u001b[1;32mif\u001b[0m \u001b[0mevents\u001b[0m\u001b[1;33m.\u001b[0m\u001b[0m_get_running_loop\u001b[0m\u001b[1;33m(\u001b[0m\u001b[1;33m)\u001b[0m \u001b[1;32mis\u001b[0m \u001b[1;32mnot\u001b[0m \u001b[1;32mNone\u001b[0m\u001b[1;33m:\u001b[0m\u001b[1;33m\u001b[0m\u001b[1;33m\u001b[0m\u001b[0m\n\u001b[1;32m---> 33\u001b[1;33m         raise RuntimeError(\n\u001b[0m\u001b[0;32m     34\u001b[0m             \"asyncio.run() cannot be called from a running event loop\")\n\u001b[0;32m     35\u001b[0m \u001b[1;33m\u001b[0m\u001b[0m\n",
      "\u001b[1;31mRuntimeError\u001b[0m: asyncio.run() cannot be called from a running event loop"
     ]
    }
   ],
   "metadata": {}
  },
  {
   "cell_type": "code",
   "execution_count": 6,
   "source": [
    "main()"
   ],
   "outputs": [
    {
     "output_type": "stream",
     "name": "stderr",
     "text": [
      "C:\\Users\\grace\\anaconda3\\lib\\site-packages\\traitlets\\traitlets.py:535: RuntimeWarning: coroutine 'main' was never awaited\n",
      "  value = obj._trait_values[self.name]\n",
      "RuntimeWarning: Enable tracemalloc to get the object allocation traceback\n"
     ]
    },
    {
     "output_type": "execute_result",
     "data": {
      "text/plain": [
       "<coroutine object main at 0x00000231674AE3C0>"
      ]
     },
     "metadata": {},
     "execution_count": 6
    }
   ],
   "metadata": {}
  },
  {
   "cell_type": "code",
   "execution_count": null,
   "source": [],
   "outputs": [],
   "metadata": {}
  }
 ],
 "metadata": {
  "kernelspec": {
   "name": "python3",
   "display_name": "Python 3.8.10 64-bit ('base': conda)"
  },
  "language_info": {
   "codemirror_mode": {
    "name": "ipython",
    "version": 3
   },
   "file_extension": ".py",
   "mimetype": "text/x-python",
   "name": "python",
   "nbconvert_exporter": "python",
   "pygments_lexer": "ipython3",
   "version": "3.8.10"
  },
  "interpreter": {
   "hash": "4dffced3618d713eb35573249f37da055ccb4ce8327966404b9b643de5d1677c"
  }
 },
 "nbformat": 4,
 "nbformat_minor": 2
}