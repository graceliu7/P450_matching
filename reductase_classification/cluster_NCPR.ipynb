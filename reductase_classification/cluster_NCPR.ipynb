{
 "metadata": {
  "language_info": {
   "codemirror_mode": {
    "name": "ipython",
    "version": 3
   },
   "file_extension": ".py",
   "mimetype": "text/x-python",
   "name": "python",
   "nbconvert_exporter": "python",
   "pygments_lexer": "ipython3",
   "version": "3.8.10"
  },
  "orig_nbformat": 4,
  "kernelspec": {
   "name": "python3",
   "display_name": "Python 3.8.10 64-bit ('base': conda)"
  },
  "interpreter": {
   "hash": "4dffced3618d713eb35573249f37da055ccb4ce8327966404b9b643de5d1677c"
  }
 },
 "nbformat": 4,
 "nbformat_minor": 2,
 "cells": [
  {
   "cell_type": "code",
   "execution_count": 1,
   "metadata": {},
   "outputs": [],
   "source": [
    "import numpy as np \n",
    "import pandas as pd \n",
    "from sklearn.cluster import KMeans\n",
    "from NCPR_functions import load_NCPR"
   ]
  },
  {
   "cell_type": "code",
   "execution_count": 2,
   "metadata": {
    "tags": []
   },
   "outputs": [],
   "source": [
    "with open('data/similarity_matrix.txt', 'rb') as f:\n",
    "    lines = f.readlines()"
   ]
  },
  {
   "cell_type": "code",
   "execution_count": 3,
   "metadata": {
    "tags": []
   },
   "outputs": [],
   "source": [
    "matrix = {}\n",
    "matrix['protein_index'] = []\n",
    "matrix['protein_name'] = []\n",
    "matrix['data'] = []\n",
    "for line in lines[6:]:\n",
    "    strline = str(line)\n",
    "    index = strline.index(':')\n",
    "    protein_index = int(strline[index-1])\n",
    "    protein_name = strline[index+2:].split(' ')[0]\n",
    "    strdata = strline[index+4+len(protein_name):-3].split(' ')\n",
    "    data = [float(a) for a in strdata if a != '']\n",
    "    matrix['protein_index'].append(protein_index)\n",
    "    matrix['protein_name'].append(protein_name)\n",
    "    matrix['data'].append(data)"
   ]
  },
  {
   "cell_type": "code",
   "execution_count": 4,
   "metadata": {},
   "outputs": [],
   "source": [
    "X = np.nan_to_num(np.array(matrix['data']))\n"
   ]
  },
  {
   "cell_type": "code",
   "execution_count": 5,
   "metadata": {},
   "outputs": [],
   "source": [
    "matrix['labels'] = KMeans(n_clusters=400, random_state=0).fit_predict(X)"
   ]
  },
  {
   "cell_type": "code",
   "execution_count": 9,
   "metadata": {},
   "outputs": [
    {
     "output_type": "error",
     "ename": "KeyError",
     "evalue": "'data'",
     "traceback": [
      "\u001b[1;31m---------------------------------------------------------------------------\u001b[0m",
      "\u001b[1;31mKeyError\u001b[0m                                  Traceback (most recent call last)",
      "\u001b[1;32m<ipython-input-9-9f1a405cb9b7>\u001b[0m in \u001b[0;36m<module>\u001b[1;34m\u001b[0m\n\u001b[1;32m----> 1\u001b[1;33m \u001b[1;32mdel\u001b[0m \u001b[0mmatrix\u001b[0m\u001b[1;33m[\u001b[0m\u001b[1;34m'data'\u001b[0m\u001b[1;33m]\u001b[0m\u001b[1;33m\u001b[0m\u001b[1;33m\u001b[0m\u001b[0m\n\u001b[0m\u001b[0;32m      2\u001b[0m \u001b[0mdf\u001b[0m \u001b[1;33m=\u001b[0m \u001b[0mpd\u001b[0m\u001b[1;33m.\u001b[0m\u001b[0mDataFrame\u001b[0m\u001b[1;33m(\u001b[0m\u001b[0mmatrix\u001b[0m\u001b[1;33m)\u001b[0m\u001b[1;33m\u001b[0m\u001b[1;33m\u001b[0m\u001b[0m\n\u001b[0;32m      3\u001b[0m \u001b[0mdf\u001b[0m\u001b[1;33m.\u001b[0m\u001b[0mto_csv\u001b[0m\u001b[1;33m(\u001b[0m\u001b[1;34m'data/clustered_NCPR.csv'\u001b[0m\u001b[1;33m)\u001b[0m\u001b[1;33m\u001b[0m\u001b[1;33m\u001b[0m\u001b[0m\n",
      "\u001b[1;31mKeyError\u001b[0m: 'data'"
     ]
    }
   ],
   "source": [
    "del matrix['data']\n",
    "df = pd.DataFrame(matrix)\n",
    "df.to_csv('data/clustered_NCPR.csv')"
   ]
  },
  {
   "cell_type": "code",
   "execution_count": 8,
   "metadata": {},
   "outputs": [],
   "source": [
    "df = pd.read_csv(\"data/clustered_NCPR.csv\")\n",
    "cluster_df = df.groupby(['labels'])['protein_name'].count().sort_values(ascending=False).to_frame().reset_index()"
   ]
  },
  {
   "cell_type": "code",
   "execution_count": 9,
   "metadata": {},
   "outputs": [
    {
     "output_type": "execute_result",
     "data": {
      "text/plain": [
       "     labels  protein_name\n",
       "0         5           124\n",
       "1        29            70\n",
       "2         6            67\n",
       "3        14            61\n",
       "4        27            56\n",
       "..      ...           ...\n",
       "195      81             1\n",
       "196     183             1\n",
       "197     182             1\n",
       "198      37             1\n",
       "199      65             1\n",
       "\n",
       "[200 rows x 2 columns]"
      ],
      "text/html": "<div>\n<style scoped>\n    .dataframe tbody tr th:only-of-type {\n        vertical-align: middle;\n    }\n\n    .dataframe tbody tr th {\n        vertical-align: top;\n    }\n\n    .dataframe thead th {\n        text-align: right;\n    }\n</style>\n<table border=\"1\" class=\"dataframe\">\n  <thead>\n    <tr style=\"text-align: right;\">\n      <th></th>\n      <th>labels</th>\n      <th>protein_name</th>\n    </tr>\n  </thead>\n  <tbody>\n    <tr>\n      <th>0</th>\n      <td>5</td>\n      <td>124</td>\n    </tr>\n    <tr>\n      <th>1</th>\n      <td>29</td>\n      <td>70</td>\n    </tr>\n    <tr>\n      <th>2</th>\n      <td>6</td>\n      <td>67</td>\n    </tr>\n    <tr>\n      <th>3</th>\n      <td>14</td>\n      <td>61</td>\n    </tr>\n    <tr>\n      <th>4</th>\n      <td>27</td>\n      <td>56</td>\n    </tr>\n    <tr>\n      <th>...</th>\n      <td>...</td>\n      <td>...</td>\n    </tr>\n    <tr>\n      <th>195</th>\n      <td>81</td>\n      <td>1</td>\n    </tr>\n    <tr>\n      <th>196</th>\n      <td>183</td>\n      <td>1</td>\n    </tr>\n    <tr>\n      <th>197</th>\n      <td>182</td>\n      <td>1</td>\n    </tr>\n    <tr>\n      <th>198</th>\n      <td>37</td>\n      <td>1</td>\n    </tr>\n    <tr>\n      <th>199</th>\n      <td>65</td>\n      <td>1</td>\n    </tr>\n  </tbody>\n</table>\n<p>200 rows × 2 columns</p>\n</div>"
     },
     "metadata": {},
     "execution_count": 9
    }
   ],
   "source": [
    "cluster_df"
   ]
  },
  {
   "cell_type": "code",
   "execution_count": 10,
   "metadata": {},
   "outputs": [],
   "source": [
    "cluster_sizes = cluster_df['protein_name'].value_counts()"
   ]
  },
  {
   "cell_type": "code",
   "execution_count": 11,
   "metadata": {},
   "outputs": [
    {
     "output_type": "execute_result",
     "data": {
      "text/plain": [
       "4      14\n",
       "1      13\n",
       "5      13\n",
       "7      11\n",
       "8      10\n",
       "6       9\n",
       "2       9\n",
       "12      9\n",
       "13      9\n",
       "3       8\n",
       "9       8\n",
       "11      8\n",
       "15      7\n",
       "16      7\n",
       "20      7\n",
       "19      6\n",
       "18      5\n",
       "10      5\n",
       "27      5\n",
       "29      4\n",
       "17      3\n",
       "22      3\n",
       "23      3\n",
       "31      3\n",
       "30      3\n",
       "14      2\n",
       "28      2\n",
       "26      2\n",
       "25      2\n",
       "24      2\n",
       "32      1\n",
       "34      1\n",
       "38      1\n",
       "56      1\n",
       "61      1\n",
       "67      1\n",
       "70      1\n",
       "124     1\n",
       "Name: protein_name, dtype: int64"
      ]
     },
     "metadata": {},
     "execution_count": 11
    }
   ],
   "source": [
    "cluster_sizes"
   ]
  },
  {
   "cell_type": "code",
   "execution_count": 12,
   "metadata": {},
   "outputs": [],
   "source": [
    "dict_data, NCPR_df = load_NCPR('data/NCPR_bert.npz', 'data/uniprot-NCPR.tab', 'data/uniprot-NCPR.fasta')\n",
    "by_species = NCPR_df.groupby(['species'])['index'].nunique().sort_values(ascending=False).to_frame().reset_index()"
   ]
  },
  {
   "cell_type": "code",
   "execution_count": 13,
   "metadata": {},
   "outputs": [
    {
     "output_type": "execute_result",
     "data": {
      "text/plain": [
       "      index            genus          species                ID  \\\n",
       "0         0   Colletotrichum    orchidophilum  A0A1G4AW05_9PEZI   \n",
       "1         1      Neophocaena  asiaeorientalis  A0A341BHF7_NEOAA   \n",
       "2         2      Aspergillus   lacticoffeatus  A0A318ZYG3_ASPLB   \n",
       "3         3  Heligmosomoides        polygyrus  A0A3P7X6Y1_HELPZ   \n",
       "4         4         Rhizopus      microsporus  A0A0A1PDJ3_RHIZD   \n",
       "...     ...              ...              ...               ...   \n",
       "2545   2545    Hesseltinella       vesiculosa  A0A1X2GQI1_9FUNG   \n",
       "2546   2546     Pneumocystis          carinii  A0A0W4ZJ82_PNEC8   \n",
       "2547   2547          Tabanus          bromius  A0A0K8TSW9_TABBR   \n",
       "2548   2548       Cinnamomum       micranthum  A0A3S3MWQ3_9MAGN   \n",
       "2549   2549      Macrostomum          lignano  A0A1I8H918_9PLAT   \n",
       "\n",
       "                                               Sequence  species index  \\\n",
       "0     MAELDTLDIVVLAVILLGTAAYFTKGKYWGVAKDPYANGFANANGA...              0   \n",
       "1     MISFLINMGDSSVEAGATASDTVAEEVSLFSTTDMIMFSLIVGFLT...              1   \n",
       "2     MAQLDTLDLVVLAVLLVGSVAYFTKGTYWAVAKDPYASTGPAMNGA...              2   \n",
       "3     MTPITPTVKPKDMSFIARMKNENRQVLIMYGSQTGTAEELSGRLAK...              3   \n",
       "4     MTRNNSHLLDTVDLILLGTIGLGTVAWFARHQITNRLFKSSSNGPQ...              4   \n",
       "...                                                 ...            ...   \n",
       "2545  MIVLGTVGLGLVAWLTRKVFFSKGTSSSSNYVSSPPPIATPNAPKK...            175   \n",
       "2546  MFKEKQELTLDTFDIIFIFVILTTILYIFRGKFWTKNEYALSVSNN...           1272   \n",
       "2547  DEPFLGPLDIVLLLTLIAGAAWWLFRNKKKEEVTTRAYAIQPTPIN...           1273   \n",
       "2548  MQSTTMKISPFDLTSAIVKRRFDPAAMASDSGATILAENLDFVMVL...            321   \n",
       "2549  LNNQWRQLRQQSNIRVNIFNAAAATKTFVVTAKNYAFKRGNVSSFV...            472   \n",
       "\n",
       "      genus index  \n",
       "0               0  \n",
       "1               1  \n",
       "2               2  \n",
       "3               3  \n",
       "4               4  \n",
       "...           ...  \n",
       "2545          158  \n",
       "2546          610  \n",
       "2547          875  \n",
       "2548          261  \n",
       "2549          376  \n",
       "\n",
       "[2550 rows x 7 columns]"
      ],
      "text/html": "<div>\n<style scoped>\n    .dataframe tbody tr th:only-of-type {\n        vertical-align: middle;\n    }\n\n    .dataframe tbody tr th {\n        vertical-align: top;\n    }\n\n    .dataframe thead th {\n        text-align: right;\n    }\n</style>\n<table border=\"1\" class=\"dataframe\">\n  <thead>\n    <tr style=\"text-align: right;\">\n      <th></th>\n      <th>index</th>\n      <th>genus</th>\n      <th>species</th>\n      <th>ID</th>\n      <th>Sequence</th>\n      <th>species index</th>\n      <th>genus index</th>\n    </tr>\n  </thead>\n  <tbody>\n    <tr>\n      <th>0</th>\n      <td>0</td>\n      <td>Colletotrichum</td>\n      <td>orchidophilum</td>\n      <td>A0A1G4AW05_9PEZI</td>\n      <td>MAELDTLDIVVLAVILLGTAAYFTKGKYWGVAKDPYANGFANANGA...</td>\n      <td>0</td>\n      <td>0</td>\n    </tr>\n    <tr>\n      <th>1</th>\n      <td>1</td>\n      <td>Neophocaena</td>\n      <td>asiaeorientalis</td>\n      <td>A0A341BHF7_NEOAA</td>\n      <td>MISFLINMGDSSVEAGATASDTVAEEVSLFSTTDMIMFSLIVGFLT...</td>\n      <td>1</td>\n      <td>1</td>\n    </tr>\n    <tr>\n      <th>2</th>\n      <td>2</td>\n      <td>Aspergillus</td>\n      <td>lacticoffeatus</td>\n      <td>A0A318ZYG3_ASPLB</td>\n      <td>MAQLDTLDLVVLAVLLVGSVAYFTKGTYWAVAKDPYASTGPAMNGA...</td>\n      <td>2</td>\n      <td>2</td>\n    </tr>\n    <tr>\n      <th>3</th>\n      <td>3</td>\n      <td>Heligmosomoides</td>\n      <td>polygyrus</td>\n      <td>A0A3P7X6Y1_HELPZ</td>\n      <td>MTPITPTVKPKDMSFIARMKNENRQVLIMYGSQTGTAEELSGRLAK...</td>\n      <td>3</td>\n      <td>3</td>\n    </tr>\n    <tr>\n      <th>4</th>\n      <td>4</td>\n      <td>Rhizopus</td>\n      <td>microsporus</td>\n      <td>A0A0A1PDJ3_RHIZD</td>\n      <td>MTRNNSHLLDTVDLILLGTIGLGTVAWFARHQITNRLFKSSSNGPQ...</td>\n      <td>4</td>\n      <td>4</td>\n    </tr>\n    <tr>\n      <th>...</th>\n      <td>...</td>\n      <td>...</td>\n      <td>...</td>\n      <td>...</td>\n      <td>...</td>\n      <td>...</td>\n      <td>...</td>\n    </tr>\n    <tr>\n      <th>2545</th>\n      <td>2545</td>\n      <td>Hesseltinella</td>\n      <td>vesiculosa</td>\n      <td>A0A1X2GQI1_9FUNG</td>\n      <td>MIVLGTVGLGLVAWLTRKVFFSKGTSSSSNYVSSPPPIATPNAPKK...</td>\n      <td>175</td>\n      <td>158</td>\n    </tr>\n    <tr>\n      <th>2546</th>\n      <td>2546</td>\n      <td>Pneumocystis</td>\n      <td>carinii</td>\n      <td>A0A0W4ZJ82_PNEC8</td>\n      <td>MFKEKQELTLDTFDIIFIFVILTTILYIFRGKFWTKNEYALSVSNN...</td>\n      <td>1272</td>\n      <td>610</td>\n    </tr>\n    <tr>\n      <th>2547</th>\n      <td>2547</td>\n      <td>Tabanus</td>\n      <td>bromius</td>\n      <td>A0A0K8TSW9_TABBR</td>\n      <td>DEPFLGPLDIVLLLTLIAGAAWWLFRNKKKEEVTTRAYAIQPTPIN...</td>\n      <td>1273</td>\n      <td>875</td>\n    </tr>\n    <tr>\n      <th>2548</th>\n      <td>2548</td>\n      <td>Cinnamomum</td>\n      <td>micranthum</td>\n      <td>A0A3S3MWQ3_9MAGN</td>\n      <td>MQSTTMKISPFDLTSAIVKRRFDPAAMASDSGATILAENLDFVMVL...</td>\n      <td>321</td>\n      <td>261</td>\n    </tr>\n    <tr>\n      <th>2549</th>\n      <td>2549</td>\n      <td>Macrostomum</td>\n      <td>lignano</td>\n      <td>A0A1I8H918_9PLAT</td>\n      <td>LNNQWRQLRQQSNIRVNIFNAAAATKTFVVTAKNYAFKRGNVSSFV...</td>\n      <td>472</td>\n      <td>376</td>\n    </tr>\n  </tbody>\n</table>\n<p>2550 rows × 7 columns</p>\n</div>"
     },
     "metadata": {},
     "execution_count": 13
    }
   ],
   "source": [
    "NCPR_df"
   ]
  },
  {
   "cell_type": "code",
   "execution_count": 14,
   "metadata": {},
   "outputs": [
    {
     "output_type": "execute_result",
     "data": {
      "text/plain": [
       "            species  index\n",
       "0              padi    116\n",
       "1               sp.     78\n",
       "2            trutta     39\n",
       "3       anshuiensis     26\n",
       "4           grahami     26\n",
       "...             ...    ...\n",
       "1269          hapla      1\n",
       "1270      haptotyla      1\n",
       "1271      helianthi      1\n",
       "1272  hemipterigena      1\n",
       "1273         zonata      1\n",
       "\n",
       "[1274 rows x 2 columns]"
      ],
      "text/html": "<div>\n<style scoped>\n    .dataframe tbody tr th:only-of-type {\n        vertical-align: middle;\n    }\n\n    .dataframe tbody tr th {\n        vertical-align: top;\n    }\n\n    .dataframe thead th {\n        text-align: right;\n    }\n</style>\n<table border=\"1\" class=\"dataframe\">\n  <thead>\n    <tr style=\"text-align: right;\">\n      <th></th>\n      <th>species</th>\n      <th>index</th>\n    </tr>\n  </thead>\n  <tbody>\n    <tr>\n      <th>0</th>\n      <td>padi</td>\n      <td>116</td>\n    </tr>\n    <tr>\n      <th>1</th>\n      <td>sp.</td>\n      <td>78</td>\n    </tr>\n    <tr>\n      <th>2</th>\n      <td>trutta</td>\n      <td>39</td>\n    </tr>\n    <tr>\n      <th>3</th>\n      <td>anshuiensis</td>\n      <td>26</td>\n    </tr>\n    <tr>\n      <th>4</th>\n      <td>grahami</td>\n      <td>26</td>\n    </tr>\n    <tr>\n      <th>...</th>\n      <td>...</td>\n      <td>...</td>\n    </tr>\n    <tr>\n      <th>1269</th>\n      <td>hapla</td>\n      <td>1</td>\n    </tr>\n    <tr>\n      <th>1270</th>\n      <td>haptotyla</td>\n      <td>1</td>\n    </tr>\n    <tr>\n      <th>1271</th>\n      <td>helianthi</td>\n      <td>1</td>\n    </tr>\n    <tr>\n      <th>1272</th>\n      <td>hemipterigena</td>\n      <td>1</td>\n    </tr>\n    <tr>\n      <th>1273</th>\n      <td>zonata</td>\n      <td>1</td>\n    </tr>\n  </tbody>\n</table>\n<p>1274 rows × 2 columns</p>\n</div>"
     },
     "metadata": {},
     "execution_count": 14
    }
   ],
   "source": [
    "by_species"
   ]
  },
  {
   "cell_type": "code",
   "execution_count": 15,
   "metadata": {},
   "outputs": [],
   "source": [
    "single_labels = cluster_df.loc[cluster_df['protein_name']==1, 'labels'].values"
   ]
  },
  {
   "cell_type": "code",
   "execution_count": 19,
   "metadata": {},
   "outputs": [
    {
     "output_type": "stream",
     "name": "stdout",
     "text": [
      "nasatum\nclemensi\nvison\nprolifica\nowczarzaki\nreinhardtii\nlatifrons\nsolidus\nprolifica\nmarinus\npneumoniae\nhesperus\nrosea\n"
     ]
    }
   ],
   "source": [
    "counts = []\n",
    "for label in single_labels:\n",
    "    id = df.loc[df['labels']==label, 'protein_name'].values[0].split('|')[-1]\n",
    "    species = NCPR_df.loc[NCPR_df['ID']==id, 'species'].values[0]\n",
    "    print(species)\n",
    "    species_count = by_species.loc[by_species['species']==species, 'index'].values[0]\n",
    "    counts.append(species_count)"
   ]
  },
  {
   "cell_type": "code",
   "execution_count": 17,
   "metadata": {},
   "outputs": [
    {
     "output_type": "execute_result",
     "data": {
      "text/plain": [
       "[1, 1, 1, 9, 1, 1, 2, 2, 9, 2, 1, 4, 2]"
      ]
     },
     "metadata": {},
     "execution_count": 17
    }
   ],
   "source": [
    "counts"
   ]
  },
  {
   "cell_type": "code",
   "execution_count": 18,
   "metadata": {},
   "outputs": [
    {
     "output_type": "execute_result",
     "data": {
      "text/plain": [
       "        species  index\n",
       "20    prolifica      9\n",
       "21    chinensis      9\n",
       "22      murdjan      9\n",
       "23        hucho      9\n",
       "24       aurata      9\n",
       "25         mays      9\n",
       "26        salar      9\n",
       "27   mustelinum      9\n",
       "28  orbicularis      9"
      ],
      "text/html": "<div>\n<style scoped>\n    .dataframe tbody tr th:only-of-type {\n        vertical-align: middle;\n    }\n\n    .dataframe tbody tr th {\n        vertical-align: top;\n    }\n\n    .dataframe thead th {\n        text-align: right;\n    }\n</style>\n<table border=\"1\" class=\"dataframe\">\n  <thead>\n    <tr style=\"text-align: right;\">\n      <th></th>\n      <th>species</th>\n      <th>index</th>\n    </tr>\n  </thead>\n  <tbody>\n    <tr>\n      <th>20</th>\n      <td>prolifica</td>\n      <td>9</td>\n    </tr>\n    <tr>\n      <th>21</th>\n      <td>chinensis</td>\n      <td>9</td>\n    </tr>\n    <tr>\n      <th>22</th>\n      <td>murdjan</td>\n      <td>9</td>\n    </tr>\n    <tr>\n      <th>23</th>\n      <td>hucho</td>\n      <td>9</td>\n    </tr>\n    <tr>\n      <th>24</th>\n      <td>aurata</td>\n      <td>9</td>\n    </tr>\n    <tr>\n      <th>25</th>\n      <td>mays</td>\n      <td>9</td>\n    </tr>\n    <tr>\n      <th>26</th>\n      <td>salar</td>\n      <td>9</td>\n    </tr>\n    <tr>\n      <th>27</th>\n      <td>mustelinum</td>\n      <td>9</td>\n    </tr>\n    <tr>\n      <th>28</th>\n      <td>orbicularis</td>\n      <td>9</td>\n    </tr>\n  </tbody>\n</table>\n</div>"
     },
     "metadata": {},
     "execution_count": 18
    }
   ],
   "source": [
    "by_species.loc[by_species['index']==9]"
   ]
  },
  {
   "cell_type": "code",
   "execution_count": null,
   "metadata": {},
   "outputs": [],
   "source": []
  }
 ]
}